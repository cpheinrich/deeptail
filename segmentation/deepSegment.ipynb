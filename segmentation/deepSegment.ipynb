{
 "cells": [
  {
   "cell_type": "code",
   "execution_count": 1,
   "metadata": {},
   "outputs": [
    {
     "name": "stderr",
     "output_type": "stream",
     "text": [
      "/Users/chrisheinrich/anaconda/envs/deep/lib/python3.5/site-packages/h5py/__init__.py:36: FutureWarning: Conversion of the second argument of issubdtype from `float` to `np.floating` is deprecated. In future, it will be treated as `np.float64 == np.dtype(float).type`.\n",
      "  from ._conv import register_converters as _register_converters\n",
      "Using TensorFlow backend.\n"
     ]
    },
    {
     "data": {
      "text/plain": [
       "'2.1.5'"
      ]
     },
     "execution_count": 1,
     "metadata": {},
     "output_type": "execute_result"
    }
   ],
   "source": [
    "import keras\n",
    "keras.__version__"
   ]
  },
  {
   "cell_type": "code",
   "execution_count": 3,
   "metadata": {},
   "outputs": [
    {
     "name": "stdout",
     "output_type": "stream",
     "text": [
      "440\n",
      "0a6be385.jpg\n",
      "8642f75d.jpg\n"
     ]
    }
   ],
   "source": [
    "import os\n",
    "import shutil\n",
    "\n",
    "home_dir = os.getcwd()\n",
    "fname = os.path.join(home_dir, 'segmentation_train.txt')\n",
    "\n",
    "f = open(fname)\n",
    "data = f.read()\n",
    "f.close()\n",
    "\n",
    "images = data.split(',')\n",
    "images = images[:-1]\n",
    "print(len(images))\n",
    "print(images[0])\n",
    "print(images[len(images)-1])"
   ]
  },
  {
   "cell_type": "code",
   "execution_count": 4,
   "metadata": {},
   "outputs": [],
   "source": [
    "import errno\n",
    "\n",
    "def mkdir_p(path):\n",
    "    try:\n",
    "        os.makedirs(path)\n",
    "    except OSError as exc:  \n",
    "        if exc.errno == errno.EEXIST and os.path.isdir(path):\n",
    "            pass\n",
    "        else:\n",
    "            raise"
   ]
  },
  {
   "cell_type": "code",
   "execution_count": 5,
   "metadata": {},
   "outputs": [],
   "source": [
    "import shutil\n",
    "unmasked_dir = os.path.join(home_dir, '../kaggle_train')\n",
    "masked_dir = os.path.join(home_dir,'masked_openCV_all')\n",
    "\n",
    "train_dir = os.path.join(home_dir, 'train_images')\n",
    "mkdir_p(train_dir)\n",
    "\n",
    "train_labels_dir = os.path.join(home_dir, 'train_labels')\n",
    "mkdir_p(train_labels_dir)\n",
    "\n",
    "validation_dir = os.path.join(home_dir, 'validation_images')\n",
    "mkdir_p(validation_dir)\n",
    "\n",
    "validation_labels_dir = os.path.join(home_dir, 'validation_labels')\n",
    "mkdir_p(validation_labels_dir)"
   ]
  },
  {
   "cell_type": "code",
   "execution_count": 6,
   "metadata": {},
   "outputs": [],
   "source": [
    "train_count = 380\n",
    "validation_count = len(images) - train_count\n",
    "\n",
    "for i in range(train_count):\n",
    "    pic = images[i].strip()\n",
    "    src = os.path.join(unmasked_dir,pic)\n",
    "    dst = os.path.join(train_dir,pic)\n",
    "    shutil.copyfile(src,dst)\n",
    "    src_masked = os.path.join(masked_dir,pic)\n",
    "    dst_masked = os.path.join(train_labels_dir,pic)\n",
    "    shutil.copyfile(src_masked,dst_masked)\n",
    "    \n",
    "for i in range(train_count,len(images)):\n",
    "    pic = images[i].strip()\n",
    "    src = os.path.join(unmasked_dir,pic)\n",
    "    dst = os.path.join(validation_dir,pic)\n",
    "    shutil.copyfile(src,dst)\n",
    "    src_masked = os.path.join(masked_dir,pic)\n",
    "    dst_masked = os.path.join(validation_labels_dir,pic)\n",
    "    shutil.copyfile(src_masked,dst_masked)"
   ]
  },
  {
   "cell_type": "code",
   "execution_count": null,
   "metadata": {
    "collapsed": true
   },
   "outputs": [],
   "source": []
  }
 ],
 "metadata": {
  "kernelspec": {
   "display_name": "Python 3",
   "language": "python",
   "name": "python3"
  },
  "language_info": {
   "codemirror_mode": {
    "name": "ipython",
    "version": 3
   },
   "file_extension": ".py",
   "mimetype": "text/x-python",
   "name": "python",
   "nbconvert_exporter": "python",
   "pygments_lexer": "ipython3",
   "version": "3.5.4"
  }
 },
 "nbformat": 4,
 "nbformat_minor": 1
}
