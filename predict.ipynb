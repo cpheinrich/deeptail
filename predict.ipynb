{
 "cells": [
  {
   "cell_type": "code",
   "execution_count": 4,
   "metadata": {},
   "outputs": [
    {
     "name": "stderr",
     "output_type": "stream",
     "text": [
      "/Users/chrisheinrich/anaconda/envs/deep/lib/python3.5/site-packages/h5py/__init__.py:36: FutureWarning: Conversion of the second argument of issubdtype from `float` to `np.floating` is deprecated. In future, it will be treated as `np.float64 == np.dtype(float).type`.\n",
      "  from ._conv import register_converters as _register_converters\n",
      "Using TensorFlow backend.\n"
     ]
    },
    {
     "data": {
      "text/plain": [
       "'2.1.5'"
      ]
     },
     "execution_count": 4,
     "metadata": {},
     "output_type": "execute_result"
    }
   ],
   "source": [
    "import keras\n",
    "keras.__version__"
   ]
  },
  {
   "cell_type": "markdown",
   "metadata": {},
   "source": [
    "# Making predictions of test data"
   ]
  },
  {
   "cell_type": "code",
   "execution_count": 5,
   "metadata": {},
   "outputs": [
    {
     "name": "stdout",
     "output_type": "stream",
     "text": [
      "_________________________________________________________________\n",
      "Layer (type)                 Output Shape              Param #   \n",
      "=================================================================\n",
      "xception (Model)             (None, 6, 6, 2048)        20861480  \n",
      "_________________________________________________________________\n",
      "flatten_3 (Flatten)          (None, 73728)             0         \n",
      "_________________________________________________________________\n",
      "dense_11 (Dense)             (None, 256)               18874624  \n",
      "_________________________________________________________________\n",
      "dense_12 (Dense)             (None, 4251)              1092507   \n",
      "=================================================================\n",
      "Total params: 40,828,611\n",
      "Trainable params: 28,369,491\n",
      "Non-trainable params: 12,459,120\n",
      "_________________________________________________________________\n"
     ]
    }
   ],
   "source": [
    "from keras.models import load_model\n",
    "\n",
    "# Load weights of model trained on AWS\n",
    "model = load_model('./weights/name_that_whale_700.h5')\n",
    "model.summary()"
   ]
  },
  {
   "cell_type": "markdown",
   "metadata": {},
   "source": [
    "**Loading the test images**"
   ]
  },
  {
   "cell_type": "code",
   "execution_count": 6,
   "metadata": {},
   "outputs": [
    {
     "name": "stdout",
     "output_type": "stream",
     "text": [
      "15610\n"
     ]
    }
   ],
   "source": [
    "import os\n",
    "import numpy as np\n",
    "from keras.preprocessing.image import ImageDataGenerator\n",
    "\n",
    "home_dir = os.getcwd()\n",
    "test_dir = os.path.join(home_dir, 'test/')\n",
    "test_list = os.listdir(test_dir)\n",
    "test_count = len(test_list)\n",
    "print(test_count)\n"
   ]
  },
  {
   "cell_type": "code",
   "execution_count": 7,
   "metadata": {},
   "outputs": [],
   "source": [
    "import cv2\n",
    "from keras.preprocessing import image\n",
    "\n",
    "# Model was trained using images of this size\n",
    "image_size = (180,180)\n",
    "\n",
    "def load_image(img_path):\n",
    "    img = image.load_img(img_path, target_size = image_size)\n",
    "    x = image.img_to_array(img)\n",
    "    x /= 255\n",
    "    return x"
   ]
  },
  {
   "cell_type": "code",
   "execution_count": 16,
   "metadata": {},
   "outputs": [
    {
     "name": "stdout",
     "output_type": "stream",
     "text": [
      "['Image', 'Id']\n",
      "9850\n",
      "4251\n"
     ]
    }
   ],
   "source": [
    "import os\n",
    "import numpy as np\n",
    "\n",
    "home_dir = os.getcwd()\n",
    "fname = os.path.join(home_dir, 'targets.csv') # targets for both train and validation\n",
    "\n",
    "f = open(fname)\n",
    "data = f.read()\n",
    "f.close()\n",
    "\n",
    "lines = data.split('\\n')\n",
    "header = lines[0].split(',')\n",
    "lines = lines[1:]\n",
    "lines = lines[:-1]\n",
    "\n",
    "whale_ids = [line.split(',')[1] for line in lines]\n",
    "whale_ids = set(whale_ids) # convert to set to remove duplicats\n",
    "whale_ids = list(whale_ids) # convert back to list to make it ordered\n",
    "ids_count = len(whale_ids)\n",
    "\n",
    "print(header)\n",
    "print(len(lines))\n",
    "print(ids_count)"
   ]
  },
  {
   "cell_type": "markdown",
   "metadata": {},
   "source": [
    "## Predicting labels"
   ]
  },
  {
   "cell_type": "code",
   "execution_count": 17,
   "metadata": {},
   "outputs": [],
   "source": [
    "batch_size = 10\n",
    "\n",
    "def predict_labels():\n",
    "    labels = np.zeros(shape=(test_count,ids_count))\n",
    "    for i in range(10):\n",
    "        batch = np.zeros(shape=(batch_size,180,180,3))\n",
    "        for j in range(batch_size):\n",
    "            batch[j] = load_image(os.path.join(test_dir,test_list[i*batch_size + j]))\n",
    "        labels_batch = model.predict(batch)\n",
    "        labels[i * batch_size : (i + 1) * batch_size] = labels_batch\n",
    "    return labels\n",
    "            \n",
    "        "
   ]
  },
  {
   "cell_type": "code",
   "execution_count": 25,
   "metadata": {
    "scrolled": true
   },
   "outputs": [],
   "source": [
    "label_prediction = predict_labels()"
   ]
  },
  {
   "cell_type": "code",
   "execution_count": 26,
   "metadata": {},
   "outputs": [],
   "source": [
    "# This function takes in a label vector, and returns the top 5 whale ids in order\n",
    "def get_ids(label_vec):\n",
    "    ids = ''\n",
    "    for i in range(5):\n",
    "        max_value = max(label_vec)\n",
    "        max_index = np.where(label_vec==max_value)\n",
    "        ids += whale_ids[max_index[0][0]]\n",
    "        label_vec[max_index] = -1\n",
    "        if i is not 4:\n",
    "            ids += ' '\n",
    "    return ids"
   ]
  },
  {
   "cell_type": "code",
   "execution_count": 28,
   "metadata": {},
   "outputs": [
    {
     "name": "stdout",
     "output_type": "stream",
     "text": [
      "Image,Id \n",
      "cb2aa96f.jpg,w_1c69443 w_e3bb130 w_2c75202 w_a3cd405 w_a7c6cf3\n",
      "703b6a1d.jpg,w_dbc392b w_80c692d w_e9ffbe9 w_62799b5 w_0d48a7d\n",
      "ce79ac9d.jpg,w_80c692d w_4a4546c w_80c692d w_80c692d w_80c692d\n",
      "7cd1936f.jpg,w_7b5a630 w_046634b w_dac2f44 w_0b3b659 w_80c692d\n",
      "c1da857c.jpg,w_80c692d w_7b3f9d1 w_2f81b85 w_f0f56dc w_62799b5\n",
      "1343b5ca.jpg,w_80c692d w_9122e43 w_f70bf4d w_70b9e55 w_3f907d6\n",
      "4378186a.jpg,w_80c692d w_d7ffaf2 w_0e9f6d9 w_616ca36 w_f9fb9d7\n",
      "d97bb43b.jpg,w_80c692d w_c01beb7 w_01ab6dc w_4dd966d w_7417b12\n",
      "6c024503.jpg,w_80c692d w_7417b12 w_9a0c14d w_65efe4d w_c01beb7\n",
      "e14189c6.jpg,w_57e8a80 w_1ec0481 w_0466071 w_c053b99 w_3e4bb3f\n",
      "b6188d6c.jpg,w_2f81b85 w_1febbf3 w_80c692d w_3e9d82e w_07274b2\n",
      "cf2a74d8.jpg,w_61b87f9 w_9a4bd76 w_817f022 w_0bd3671 w_7b5a630\n",
      "dff4b248.jpg,w_82bab38 w_20c671c w_697c72e w_3eaef21 w_68820e8\n",
      "265a33a3.jpg,w_a8335f2 w_80c692d w_798bf53 w_56ddb00 w_4a4546c\n",
      "e3c0cfa0.jpg,w_80c692d w_ba2f2c4 w_2085f2e w_d037229 w_8e3ebeb\n",
      "6c0c7e05.jpg,w_80c692d w_97e7648 w_56bbc91 w_27cf4e2 w_693c9ee\n",
      "f6b89cb9.jpg,w_b71eab2 w_80c692d w_f115d53 w_56ddb00 w_17d5eb9\n",
      "716ecf4d.jpg,w_80c692d w_5dcbb74 w_381c6aa w_7554f44 w_6751cb2\n",
      "f06dd353.jpg,w_f64658b w_80c692d w_4ae9b0a w_80fff4d w_1ec0481\n",
      "f0df5507.jpg,w_4a3032d w_80c692d w_dbc392b w_e9ffbe9 w_084d01c\n",
      "f151cf92.jpg,w_0674604 w_80c692d w_25871da w_61b87f9 w_414f402\n",
      "91aa97c3.jpg,w_80c692d w_9a0c14d w_05b2ddd w_c01beb7 w_4dd966d\n",
      "887b2787.jpg,w_80c692d w_3331656 w_75e6bf3 w_e80641a w_01ab6dc\n",
      "5e31631d.jpg,w_80c692d w_4a4546c w_80c692d w_80c692d w_80c692d\n",
      "1f3d04ca.jpg,w_80c692d w_7b3f9d1 w_1014df7 w_bda2856 w_6f2ae72\n",
      "b208240a.jpg,w_80c692d w_4a4546c w_80c692d w_80c692d w_80c692d\n",
      "af3d3a07.jpg,w_80c692d w_5d0666e w_47906dc w_063d82f w_6b4af70\n",
      "fe54c170.jpg,w_78999a6 w_a2564cf w_913a2ad w_1b1c32f w_80c692d\n",
      "99a818bd.jpg,w_80c692d w_1904e8c w_bbf6ebf w_2e328e6 w_a7c6cf3\n",
      "df00a243.jpg,w_80c692d w_56bbc91 w_97e7648 w_80fff4d w_1ec0481\n",
      "c17812c6.jpg,w_80c692d w_b33e728 w_78999a6 w_5d0666e w_0ebd514\n",
      "4ca00609.jpg,w_80c692d w_3572e7e w_b6d4901 w_dce3192 w_e3bb130\n",
      "6d6748a1.jpg,w_80c692d w_ba0d756 w_1904e8c w_2e328e6 w_800034f\n",
      "61764a27.jpg,w_1c69443 w_80c692d w_ad512ec w_d1bbde9 w_f51b4bc\n",
      "1435a54c.jpg,w_80c692d w_b33e728 w_c8126db w_cb3bd52 w_351a1e1\n",
      "aa7dcf20.jpg,w_80c692d w_b4eeae6 w_6b45921 w_6aad777 w_56ddb00\n",
      "d5e4007d.jpg,w_80c692d w_1306632 w_e80641a w_0771d4b w_61b87f9\n",
      "8aa11310.jpg,w_80c692d w_32401f6 w_72c15c4 w_75f217b w_7233641\n",
      "42fd0049.jpg,w_80fff4d w_2c0af5e w_707a3c3 w_1ec0481 w_e3b236d\n",
      "1ff136ec.jpg,w_f115d53 w_798bf53 w_a8335f2 w_6b45921 w_80c692d\n",
      "ffe57505.jpg,w_7386509 w_711d58c w_515d21d w_f0d8be1 w_532e2cc\n",
      "9bc0a286.jpg,w_ec27074 w_f115d53 w_89317b0 w_80c692d w_c666071\n",
      "600574f8.jpg,w_2f81b85 w_4057481 w_80c692d w_084d01c w_be32bec\n",
      "4f5afe4f.jpg,w_7b5a630 w_0b3b659 w_f6722e7 w_046634b w_80c692d\n",
      "7d279529.jpg,w_170bacc w_80c692d w_6c803bf w_7885601 w_4848a3c\n",
      "c8a3ef02.jpg,w_80c692d w_a7c6cf3 w_2c75202 w_a3cd405 w_837646b\n",
      "9ea603fe.jpg,w_2855124 w_80c692d w_422420c w_895c722 w_8e3ebeb\n",
      "455b69f3.jpg,w_80c692d w_f115d53 w_e6f746e w_c666071 w_89317b0\n",
      "fc873bc4.jpg,w_3331656 w_f6086ac w_7b3f9d1 w_ce9b95e w_6f2ae72\n",
      "9da0f807.jpg,w_80c692d w_bda2856 w_52eecb4 w_084d01c w_6f2ae72\n",
      "c35e131a.jpg,w_8e93d0e w_6751cb2 w_861cc1c w_80c692d w_381c6aa\n",
      "33e9da87.jpg,w_80c692d w_a964291 w_b33e728 w_33fc58d w_6f2ae72\n",
      "1fb09489.jpg,w_80c692d w_4a4546c w_80c692d w_80c692d w_80c692d\n",
      "a1edca5a.jpg,w_80c692d w_3c304db w_d7ffaf2 w_88e679c w_5e0e662\n",
      "920cdee7.jpg,w_80c692d w_4a4546c w_80c692d w_80c692d w_80c692d\n",
      "65c62ae8.jpg,w_80c692d w_8740039 w_1306632 w_e80641a w_2dc2ef2\n",
      "8e135404.jpg,w_f98d12b w_80c692d w_c0560ac w_9605bf1 w_d51a79f\n",
      "1baa2256.jpg,w_80c692d w_a7c6cf3 w_e3bb130 w_235b156 w_4b04829\n",
      "31722bf6.jpg,w_80c692d w_4a4546c w_80c692d w_80c692d w_80c692d\n",
      "4d5344a9.jpg,w_80c692d w_62799b5 w_7b3f9d1 w_6f2ae72 w_dbc392b\n",
      "fae5f334.jpg,w_80c692d w_53ef628 w_1e674e6 w_dba0cd8 w_3d4900b\n",
      "96afdb14.jpg,w_4759be5 w_7b1abbf w_6a87d0d w_a7c6cf3 w_f98d12b\n",
      "5156c1e4.jpg,w_d1bbde9 w_1c69443 w_09d48d1 w_80c692d w_b5ea8a0\n",
      "0cdb8ca2.jpg,w_80171b9 w_517a3bc w_9dc4181 w_7c9fd46 w_57e8a80\n",
      "8b56cfca.jpg,w_80c692d w_707a3c3 w_2f97ce6 w_6418af0 w_f1b565a\n",
      "d8e477dc.jpg,w_80c692d w_6f2ae72 w_bda2856 w_db2baec w_62799b5\n",
      "9f4781cc.jpg,w_80c692d w_dfacbe7 w_4bf5a06 w_5a6bf1f w_43be268\n",
      "96c83a82.jpg,w_b932b22 w_c7b05e7 w_80c692d w_05567a9 w_cc3a724\n",
      "8f3d11dc.jpg,w_80c692d w_3e1bdd0 w_2f97ce6 w_493c000 w_607a734\n",
      "c0b9d163.jpg,w_80c692d w_4a4546c w_80c692d w_80c692d w_80c692d\n",
      "b53fb92b.jpg,w_9a4bd76 w_80c692d w_8e451d9 w_4dd966d w_54cd8e0\n",
      "79d649c6.jpg,w_f0f56dc w_f9fb9d7 w_3331656 w_35453e0 w_25067c8\n",
      "db2febd0.jpg,w_d6d502a w_80c692d w_cb32cb8 w_62799b5 w_b066aa6\n",
      "3d3a7267.jpg,w_7852bd1 w_5824675 w_3331656 w_4e505cc w_32915fe\n",
      "c98f8839.jpg,w_80c692d w_5dcbb74 w_048f7a9 w_7554f44 w_ccbc782\n",
      "54a1dd43.jpg,w_80c692d w_4a4546c w_80c692d w_80c692d w_80c692d\n",
      "35775158.jpg,w_6f2ae72 w_a789d49 w_0f16be3 w_c8126db w_80c692d\n",
      "1d2ff01b.jpg,w_d6a3892 w_2658649 w_80fff4d w_976a54b w_a1b985a\n",
      "77cecd91.jpg,w_80c692d w_d68d206 w_fe6617a w_fcf5284 w_5d2734c\n",
      "a33bca03.jpg,w_80c692d w_73321ab w_f2d87b0 w_0f16be3 w_f78c287\n",
      "204d4f83.jpg,w_80c692d w_9c449e2 w_09d48d1 w_1c69443 w_dce3192\n",
      "6b6f4054.jpg,w_9a0c14d w_05b2ddd w_c01beb7 w_01ab6dc w_4dd966d\n",
      "c7b109b4.jpg,w_80c692d w_fda4fc5 w_591db29 w_b61840c w_5a6bf1f\n",
      "6525ea72.jpg,w_80c692d w_517a3bc w_17d5eb9 w_8392ae9 w_57e8a80\n",
      "685f9121.jpg,w_80c692d w_4a4546c w_80c692d w_80c692d w_80c692d\n",
      "11f838ff.jpg,w_fd1a27f w_f115d53 w_ac851eb w_9771603 w_0ebd514\n",
      "9c1588b8.jpg,w_80c692d w_f6722e7 w_78b325d w_7b5a630 w_d3ed80e\n",
      "b33b80de.jpg,w_3c304db w_4848a3c w_dd086b2 w_6c803bf w_3222bdb\n",
      "4425e450.jpg,w_80c692d w_75e6bf3 w_3331656 w_25067c8 w_8e451d9\n",
      "21e670a3.jpg,w_046634b w_7b5a630 w_0b3b659 w_517a3bc w_dd52cfc\n",
      "253dfaac.jpg,w_8ea1699 w_048f7a9 w_05567a9 w_ccbc782 w_80c692d\n",
      "a2f06439.jpg,w_80c692d w_235b156 w_3e73d8a w_b9beaf5 w_5ee752a\n",
      "64d644cb.jpg,w_80c692d w_4a4546c w_80c692d w_80c692d w_80c692d\n",
      "2b22482e.jpg,w_80c692d w_530f87b w_0674604 w_b61840c w_4bf5a06\n",
      "9fadad32.jpg,w_5bb7ae9 w_78b325d w_6a87d0d w_80c692d w_f6722e7\n",
      "7d2ba2da.jpg,w_326e389 w_0466071 w_1ec0481 w_c053b99 w_2f97ce6\n",
      "13e38ab5.jpg,w_80c692d w_bcad8eb w_1904e8c w_4a3032d w_8b6fd36\n",
      "3972ef0a.jpg,w_80c692d w_f115d53 w_7b3f9d1 w_211aa88 w_f3d98bc\n",
      "6b6fc5fc.jpg,w_80c692d w_25e2bc9 w_b0fde68 w_8963cff w_490b224\n",
      "4c7b738c.jpg,w_40be51f w_24e2654 w_2832e90 w_6635a97 w_17a2610\n",
      "\n"
     ]
    }
   ],
   "source": [
    "prediction = 'Image,Id \\n'\n",
    "for i in range(100):\n",
    "    prediction += test_list[i]\n",
    "    prediction += ', '\n",
    "    prediction += get_ids(label_prediction[i])\n",
    "    prediction += '\\n'\n",
    "\n",
    "    \n",
    "print(prediction)"
   ]
  },
  {
   "cell_type": "code",
   "execution_count": null,
   "metadata": {},
   "outputs": [],
   "source": []
  }
 ],
 "metadata": {
  "kernelspec": {
   "display_name": "Python 3",
   "language": "python",
   "name": "python3"
  },
  "language_info": {
   "codemirror_mode": {
    "name": "ipython",
    "version": 3
   },
   "file_extension": ".py",
   "mimetype": "text/x-python",
   "name": "python",
   "nbconvert_exporter": "python",
   "pygments_lexer": "ipython3",
   "version": "3.5.4"
  }
 },
 "nbformat": 4,
 "nbformat_minor": 2
}
