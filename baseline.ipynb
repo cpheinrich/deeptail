{
 "cells": [
  {
   "cell_type": "markdown",
   "metadata": {},
   "source": [
    "## Deeptail Baseline"
   ]
  },
  {
   "cell_type": "code",
   "execution_count": null,
   "metadata": {
    "collapsed": true
   },
   "outputs": [],
   "source": []
  },
  {
   "cell_type": "markdown",
   "metadata": {},
   "source": [
    "In this notebook we find the rate of occurence of the top 5 labels in the training data, which we will use as a baseline. We will also incorporate this information into our predictions"
   ]
  },
  {
   "cell_type": "code",
   "execution_count": 16,
   "metadata": {
    "collapsed": false,
    "scrolled": true
   },
   "outputs": [
    {
     "name": "stdout",
     "output_type": "stream",
     "text": [
      "9850\n"
     ]
    },
    {
     "data": {
      "text/plain": [
       "[('new_whale', 810),\n",
       " ('w_1287fbc', 34),\n",
       " ('w_98baff9', 27),\n",
       " ('w_7554f44', 26),\n",
       " ('w_1eafe46', 23)]"
      ]
     },
     "execution_count": 16,
     "metadata": {},
     "output_type": "execute_result"
    }
   ],
   "source": [
    "import os\n",
    "import numpy as np\n",
    "from collections import Counter\n",
    "\n",
    "home_dir = os.getcwd()\n",
    "fname = os.path.join(home_dir, 'targets.csv') # targets for both train and validation\n",
    "\n",
    "f = open(fname)\n",
    "data = f.read()\n",
    "f.close()\n",
    "\n",
    "lines = data.split('\\n')\n",
    "header = lines[0].split(',')\n",
    "lines = lines[1:]\n",
    "lines = lines[:-1]\n",
    "print(len(lines))\n",
    "\n",
    "ids = [line.split(',')[1] for line in lines]\n",
    "id_counter = Counter(ids_with_count)\n",
    "top_5 = id_counter.most_common(5)\n",
    "top_5"
   ]
  },
  {
   "cell_type": "markdown",
   "metadata": {},
   "source": [
    "Returns a list of tuples of the top 5 whale_ids together with their rate of occurence"
   ]
  },
  {
   "cell_type": "code",
   "execution_count": 23,
   "metadata": {
    "collapsed": false
   },
   "outputs": [
    {
     "data": {
      "text/plain": [
       "[('new_whale', 0.08223350253807106),\n",
       " ('w_1287fbc', 0.0034517766497461928),\n",
       " ('w_98baff9', 0.0027411167512690357),\n",
       " ('w_7554f44', 0.0026395939086294416),\n",
       " ('w_1eafe46', 0.0023350253807106597)]"
      ]
     },
     "execution_count": 23,
     "metadata": {},
     "output_type": "execute_result"
    }
   ],
   "source": [
    "top_5_p = []\n",
    "for i in range(5):\n",
    "    t = top_5[i][0], top_5[i][1]/len(lines)\n",
    "    top_5_p.append(t)\n",
    "\n",
    "f = open('top_5_probabilities.txt','w')\n",
    "f.write(str(top_5_p))\n",
    "f.close()\n",
    "    \n",
    "top_5_p"
   ]
  }
 ],
 "metadata": {
  "kernelspec": {
   "display_name": "Python 3",
   "language": "python",
   "name": "python3"
  },
  "language_info": {
   "codemirror_mode": {
    "name": "ipython",
    "version": 3
   },
   "file_extension": ".py",
   "mimetype": "text/x-python",
   "name": "python",
   "nbconvert_exporter": "python",
   "pygments_lexer": "ipython3",
   "version": "3.5.4"
  }
 },
 "nbformat": 4,
 "nbformat_minor": 0
}
